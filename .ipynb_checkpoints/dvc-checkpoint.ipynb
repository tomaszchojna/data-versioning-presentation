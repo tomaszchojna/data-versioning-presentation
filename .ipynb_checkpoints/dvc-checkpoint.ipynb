{
 "cells": [
  {
   "cell_type": "markdown",
   "id": "immediate-parish",
   "metadata": {},
   "source": [
    "# Install DVC"
   ]
  },
  {
   "cell_type": "code",
   "execution_count": 1,
   "id": "mexican-bible",
   "metadata": {},
   "outputs": [
    {
     "name": "stdout",
     "output_type": "stream",
     "text": [
      "Collecting dvc\n",
      "  Downloading dvc-2.0.18-py2.py3-none-any.whl (633 kB)\n",
      "\u001b[K     |████████████████████████████████| 633 kB 2.0 MB/s eta 0:00:01\n",
      "\u001b[?25hRequirement already satisfied: gitpython>3 in /Library/Frameworks/Python.framework/Versions/3.9/lib/python3.9/site-packages (from dvc) (3.1.13)\n",
      "Requirement already satisfied: ruamel.yaml>=0.16.1 in /Library/Frameworks/Python.framework/Versions/3.9/lib/python3.9/site-packages (from dvc) (0.16.12)\n",
      "Requirement already satisfied: requests>=2.22.0 in /Library/Frameworks/Python.framework/Versions/3.9/lib/python3.9/site-packages (from dvc) (2.25.1)\n",
      "Requirement already satisfied: packaging>=19.0 in /Library/Frameworks/Python.framework/Versions/3.9/lib/python3.9/site-packages (from dvc) (20.8)\n",
      "Requirement already satisfied: setuptools>=34.0.0 in /Library/Frameworks/Python.framework/Versions/3.9/lib/python3.9/site-packages (from dvc) (51.3.3)\n",
      "Requirement already satisfied: pyparsing==2.4.7 in /Library/Frameworks/Python.framework/Versions/3.9/lib/python3.9/site-packages (from dvc) (2.4.7)\n",
      "Requirement already satisfied: toml>=0.10.1 in /Library/Frameworks/Python.framework/Versions/3.9/lib/python3.9/site-packages (from dvc) (0.10.2)\n",
      "Requirement already satisfied: tabulate>=0.8.7 in /Library/Frameworks/Python.framework/Versions/3.9/lib/python3.9/site-packages (from dvc) (0.8.7)\n",
      "Collecting fsspec==0.9.0\n",
      "  Downloading fsspec-0.9.0-py3-none-any.whl (107 kB)\n",
      "\u001b[K     |████████████████████████████████| 107 kB 925 kB/s eta 0:00:01\n",
      "\u001b[?25hCollecting grandalf==0.6\n",
      "  Downloading grandalf-0.6-py3-none-any.whl (31 kB)\n",
      "Collecting pygtrie==2.3.2\n",
      "  Downloading pygtrie-2.3.2.tar.gz (33 kB)\n",
      "Collecting appdirs>=1.4.3\n",
      "  Downloading appdirs-1.4.4-py2.py3-none-any.whl (9.6 kB)\n",
      "Collecting colorama>=0.3.9\n",
      "  Downloading colorama-0.4.4-py2.py3-none-any.whl (16 kB)\n",
      "Collecting configobj>=5.0.6\n",
      "  Downloading configobj-5.0.6.tar.gz (33 kB)\n",
      "Requirement already satisfied: six in /Library/Frameworks/Python.framework/Versions/3.9/lib/python3.9/site-packages (from configobj>=5.0.6->dvc) (1.15.0)\n",
      "Collecting dictdiffer>=0.8.1\n",
      "  Downloading dictdiffer-0.8.1-py2.py3-none-any.whl (16 kB)\n",
      "Collecting diskcache>=5.2.1\n",
      "  Downloading diskcache-5.2.1-py3-none-any.whl (44 kB)\n",
      "\u001b[K     |████████████████████████████████| 44 kB 9.6 MB/s  eta 0:00:01\n",
      "\u001b[?25hCollecting distro>=1.3.0\n",
      "  Downloading distro-1.5.0-py2.py3-none-any.whl (18 kB)\n",
      "Collecting dpath<3,>=2.0.1\n",
      "  Downloading dpath-2.0.1.tar.gz (21 kB)\n",
      "Collecting dulwich>=0.20.21\n",
      "  Downloading dulwich-0.20.21-cp39-cp39-macosx_10_14_x86_64.whl (460 kB)\n",
      "\u001b[K     |████████████████████████████████| 460 kB 14.7 MB/s eta 0:00:01\n",
      "\u001b[?25hRequirement already satisfied: certifi in /Library/Frameworks/Python.framework/Versions/3.9/lib/python3.9/site-packages (from dulwich>=0.20.21->dvc) (2020.12.5)\n",
      "Requirement already satisfied: urllib3>=1.24.1 in /Library/Frameworks/Python.framework/Versions/3.9/lib/python3.9/site-packages (from dulwich>=0.20.21->dvc) (1.26.2)\n",
      "Collecting flatten-dict<1,>=0.3.0\n",
      "  Downloading flatten_dict-0.3.0-py2.py3-none-any.whl (8.2 kB)\n",
      "Collecting flufl.lock<4,>=3.2\n",
      "  Downloading flufl.lock-3.2.tar.gz (19 kB)\n",
      "Collecting funcy>=1.14\n",
      "  Downloading funcy-1.15-py2.py3-none-any.whl (32 kB)\n",
      "Requirement already satisfied: gitdb<5,>=4.0.1 in /Library/Frameworks/Python.framework/Versions/3.9/lib/python3.9/site-packages (from gitpython>3->dvc) (4.0.5)\n",
      "Requirement already satisfied: smmap<4,>=3.0.1 in /Library/Frameworks/Python.framework/Versions/3.9/lib/python3.9/site-packages (from gitdb<5,>=4.0.1->gitpython>3->dvc) (3.0.5)\n",
      "Collecting jsonpath-ng>=1.5.1\n",
      "  Downloading jsonpath_ng-1.5.2-py3-none-any.whl (28 kB)\n",
      "Requirement already satisfied: decorator in /Library/Frameworks/Python.framework/Versions/3.9/lib/python3.9/site-packages (from jsonpath-ng>=1.5.1->dvc) (4.4.2)\n",
      "Collecting nanotime>=0.5.2\n",
      "  Downloading nanotime-0.5.2.tar.gz (3.2 kB)\n",
      "Collecting networkx>=2.1\n",
      "  Downloading networkx-2.5.1-py3-none-any.whl (1.6 MB)\n",
      "\u001b[K     |████████████████████████████████| 1.6 MB 2.2 MB/s eta 0:00:01\n",
      "\u001b[?25hCollecting pathlib2<3.0,>=2.3\n",
      "  Downloading pathlib2-2.3.5-py2.py3-none-any.whl (18 kB)\n",
      "Collecting pathspec>=0.6.0\n",
      "  Downloading pathspec-0.8.1-py2.py3-none-any.whl (28 kB)\n",
      "Collecting ply>=3.9\n",
      "  Downloading ply-3.11-py2.py3-none-any.whl (49 kB)\n",
      "\u001b[K     |████████████████████████████████| 49 kB 9.4 MB/s  eta 0:00:01\n",
      "\u001b[?25hCollecting psutil>=5.8.0\n",
      "  Downloading psutil-5.8.0-cp39-cp39-macosx_10_9_x86_64.whl (236 kB)\n",
      "\u001b[K     |████████████████████████████████| 236 kB 11.9 MB/s eta 0:00:01\n",
      "\u001b[?25hCollecting pyasn1>=0.4.1\n",
      "  Downloading pyasn1-0.4.8-py2.py3-none-any.whl (77 kB)\n",
      "\u001b[K     |████████████████████████████████| 77 kB 7.0 MB/s  eta 0:00:01\n",
      "\u001b[?25hCollecting pydot>=1.2.4\n",
      "  Downloading pydot-1.4.2-py2.py3-none-any.whl (21 kB)\n",
      "Collecting pygit2>=1.5.0\n",
      "  Downloading pygit2-1.5.0-cp39-cp39-macosx_10_9_x86_64.whl (821 kB)\n",
      "\u001b[K     |████████████████████████████████| 821 kB 12.3 MB/s eta 0:00:01\n",
      "\u001b[?25hRequirement already satisfied: cffi>=1.4.0 in /Library/Frameworks/Python.framework/Versions/3.9/lib/python3.9/site-packages (from pygit2>=1.5.0->dvc) (1.14.4)\n",
      "Requirement already satisfied: pycparser in /Library/Frameworks/Python.framework/Versions/3.9/lib/python3.9/site-packages (from cffi>=1.4.0->pygit2>=1.5.0->dvc) (2.20)\n",
      "Collecting python-benedict>=0.21.1\n",
      "  Downloading python_benedict-0.23.2-py3-none-any.whl (39 kB)\n",
      "Requirement already satisfied: pyyaml in /Library/Frameworks/Python.framework/Versions/3.9/lib/python3.9/site-packages (from python-benedict>=0.21.1->dvc) (5.3.1)\n",
      "Requirement already satisfied: python-dateutil in /Library/Frameworks/Python.framework/Versions/3.9/lib/python3.9/site-packages (from python-benedict>=0.21.1->dvc) (2.8.1)\n",
      "Requirement already satisfied: chardet<5,>=3.0.2 in /Library/Frameworks/Python.framework/Versions/3.9/lib/python3.9/site-packages (from requests>=2.22.0->dvc) (4.0.0)\n",
      "Requirement already satisfied: idna<3,>=2.5 in /Library/Frameworks/Python.framework/Versions/3.9/lib/python3.9/site-packages (from requests>=2.22.0->dvc) (2.10)\n",
      "Collecting rich>=10.0.0\n",
      "  Downloading rich-10.1.0-py3-none-any.whl (201 kB)\n",
      "\u001b[K     |████████████████████████████████| 201 kB 9.2 MB/s eta 0:00:01\n",
      "\u001b[?25hRequirement already satisfied: pygments<3.0.0,>=2.6.0 in /Library/Frameworks/Python.framework/Versions/3.9/lib/python3.9/site-packages (from rich>=10.0.0->dvc) (2.7.4)\n",
      "Collecting commonmark<0.10.0,>=0.9.0\n",
      "  Downloading commonmark-0.9.1-py2.py3-none-any.whl (51 kB)\n",
      "\u001b[K     |████████████████████████████████| 51 kB 20.4 MB/s eta 0:00:01\n",
      "\u001b[?25hCollecting shortuuid>=0.5.0\n",
      "  Downloading shortuuid-1.0.1-py3-none-any.whl (7.5 kB)\n",
      "Collecting shtab<2,>=1.3.4\n",
      "  Downloading shtab-1.3.5-py2.py3-none-any.whl (12 kB)\n",
      "Collecting tqdm<5,>=4.45.0\n",
      "  Downloading tqdm-4.60.0-py2.py3-none-any.whl (75 kB)\n",
      "\u001b[K     |████████████████████████████████| 75 kB 12.0 MB/s eta 0:00:01\n",
      "\u001b[?25hCollecting typing-extensions>=3.7.4\n",
      "  Downloading typing_extensions-3.10.0.0-py3-none-any.whl (26 kB)\n",
      "Collecting voluptuous>=0.11.7\n",
      "  Downloading voluptuous-0.12.1-py3-none-any.whl (29 kB)\n",
      "Collecting zc.lockfile>=1.2.1\n",
      "  Downloading zc.lockfile-2.0-py2.py3-none-any.whl (9.7 kB)\n",
      "Collecting atpublic\n",
      "  Downloading atpublic-2.3.tar.gz (16 kB)\n",
      "Collecting cached-property\n",
      "  Downloading cached_property-1.5.2-py2.py3-none-any.whl (7.6 kB)\n",
      "Collecting ftfy\n",
      "  Downloading ftfy-6.0.1.tar.gz (63 kB)\n",
      "\u001b[K     |████████████████████████████████| 63 kB 6.6 MB/s  eta 0:00:01\n",
      "\u001b[?25hRequirement already satisfied: wcwidth in /Library/Frameworks/Python.framework/Versions/3.9/lib/python3.9/site-packages (from ftfy->python-benedict>=0.21.1->dvc) (0.2.5)\n",
      "Collecting future\n",
      "  Downloading future-0.18.2.tar.gz (829 kB)\n",
      "\u001b[K     |████████████████████████████████| 829 kB 10.2 MB/s eta 0:00:01\n",
      "\u001b[?25hCollecting mailchecker\n",
      "  Downloading mailchecker-4.0.6.tar.gz (201 kB)\n",
      "\u001b[K     |████████████████████████████████| 201 kB 9.4 MB/s eta 0:00:01\n",
      "\u001b[?25hCollecting phonenumbers\n",
      "  Downloading phonenumbers-8.12.22-py2.py3-none-any.whl (2.6 MB)\n",
      "\u001b[K     |████████████████████████████████| 2.6 MB 2.3 MB/s eta 0:00:01\n",
      "\u001b[?25hCollecting python-fsutil\n",
      "  Downloading python_fsutil-0.4.0-py3-none-any.whl (11 kB)\n",
      "Collecting python-slugify\n",
      "  Downloading python_slugify-5.0.0-py2.py3-none-any.whl (6.8 kB)\n",
      "Collecting text-unidecode>=1.3\n"
     ]
    },
    {
     "name": "stdout",
     "output_type": "stream",
     "text": [
      "  Downloading text_unidecode-1.3-py2.py3-none-any.whl (78 kB)\n",
      "\u001b[K     |████████████████████████████████| 78 kB 6.8 MB/s  eta 0:00:01\n",
      "\u001b[?25hCollecting xmltodict\n",
      "  Downloading xmltodict-0.12.0-py2.py3-none-any.whl (9.2 kB)\n",
      "Using legacy 'setup.py install' for pygtrie, since package 'wheel' is not installed.\n",
      "Using legacy 'setup.py install' for configobj, since package 'wheel' is not installed.\n",
      "Using legacy 'setup.py install' for dpath, since package 'wheel' is not installed.\n",
      "Using legacy 'setup.py install' for flufl.lock, since package 'wheel' is not installed.\n",
      "Using legacy 'setup.py install' for nanotime, since package 'wheel' is not installed.\n",
      "Using legacy 'setup.py install' for atpublic, since package 'wheel' is not installed.\n",
      "Using legacy 'setup.py install' for ftfy, since package 'wheel' is not installed.\n",
      "Using legacy 'setup.py install' for future, since package 'wheel' is not installed.\n",
      "Using legacy 'setup.py install' for mailchecker, since package 'wheel' is not installed.\n",
      "Installing collected packages: text-unidecode, xmltodict, typing-extensions, python-slugify, python-fsutil, ply, phonenumbers, pathlib2, mailchecker, future, ftfy, commonmark, colorama, cached-property, atpublic, zc.lockfile, voluptuous, tqdm, shtab, shortuuid, rich, python-benedict, pygtrie, pygit2, pydot, pyasn1, psutil, pathspec, networkx, nanotime, jsonpath-ng, grandalf, funcy, fsspec, flufl.lock, flatten-dict, dulwich, dpath, distro, diskcache, dictdiffer, configobj, appdirs, dvc\n",
      "    Running setup.py install for mailchecker ... \u001b[?25ldone\n",
      "\u001b[?25h    Running setup.py install for future ... \u001b[?25ldone\n",
      "\u001b[?25h    Running setup.py install for ftfy ... \u001b[?25ldone\n",
      "\u001b[?25h    Running setup.py install for atpublic ... \u001b[?25ldone\n",
      "\u001b[?25h    Running setup.py install for pygtrie ... \u001b[?25ldone\n",
      "\u001b[?25h    Running setup.py install for nanotime ... \u001b[?25ldone\n",
      "\u001b[?25h  Attempting uninstall: fsspec\n",
      "    Found existing installation: fsspec 2021.4.0\n",
      "    Uninstalling fsspec-2021.4.0:\n",
      "      Successfully uninstalled fsspec-2021.4.0\n",
      "    Running setup.py install for flufl.lock ... \u001b[?25ldone\n",
      "\u001b[?25h    Running setup.py install for dpath ... \u001b[?25ldone\n",
      "\u001b[?25h    Running setup.py install for configobj ... \u001b[?25ldone\n",
      "\u001b[?25hSuccessfully installed appdirs-1.4.4 atpublic-2.3 cached-property-1.5.2 colorama-0.4.4 commonmark-0.9.1 configobj-5.0.6 dictdiffer-0.8.1 diskcache-5.2.1 distro-1.5.0 dpath-2.0.1 dulwich-0.20.21 dvc-2.0.18 flatten-dict-0.3.0 flufl.lock-3.2 fsspec-0.9.0 ftfy-6.0.1 funcy-1.15 future-0.18.2 grandalf-0.6 jsonpath-ng-1.5.2 mailchecker-4.0.6 nanotime-0.5.2 networkx-2.5.1 pathlib2-2.3.5 pathspec-0.8.1 phonenumbers-8.12.22 ply-3.11 psutil-5.8.0 pyasn1-0.4.8 pydot-1.4.2 pygit2-1.5.0 pygtrie-2.3.2 python-benedict-0.23.2 python-fsutil-0.4.0 python-slugify-5.0.0 rich-10.1.0 shortuuid-1.0.1 shtab-1.3.5 text-unidecode-1.3 tqdm-4.60.0 typing-extensions-3.10.0.0 voluptuous-0.12.1 xmltodict-0.12.0 zc.lockfile-2.0\n",
      "\u001b[33mWARNING: You are using pip version 20.3.3; however, version 21.1 is available.\n",
      "You should consider upgrading via the '/Library/Frameworks/Python.framework/Versions/3.9/bin/python3.9 -m pip install --upgrade pip' command.\u001b[0m\n",
      "Note: you may need to restart the kernel to use updated packages.\n"
     ]
    }
   ],
   "source": [
    "%pip install dvc"
   ]
  },
  {
   "cell_type": "markdown",
   "id": "difficult-external",
   "metadata": {},
   "source": [
    "# Initialize dvc for existing GIT repository"
   ]
  },
  {
   "cell_type": "code",
   "execution_count": 1,
   "id": "returning-andorra",
   "metadata": {},
   "outputs": [
    {
     "name": "stdout",
     "output_type": "stream",
     "text": [
      "Initialized DVC repository.\n",
      "\n",
      "You can now commit the changes to git.\n",
      "\n",
      "\u001b[31m+---------------------------------------------------------------------+\n",
      "\u001b[0m\u001b[31m|\u001b[0m                                                                     \u001b[31m|\u001b[0m\n",
      "\u001b[31m|\u001b[0m        DVC has enabled anonymous aggregate usage analytics.         \u001b[31m|\u001b[0m\n",
      "\u001b[31m|\u001b[0m     Read the analytics documentation (and how to opt-out) here:     \u001b[31m|\u001b[0m\n",
      "\u001b[31m|\u001b[0m             <\u001b[36mhttps://dvc.org/doc/user-guide/analytics\u001b[39m>              \u001b[31m|\u001b[0m\n",
      "\u001b[31m|\u001b[0m                                                                     \u001b[31m|\u001b[0m\n",
      "\u001b[31m+---------------------------------------------------------------------+\n",
      "\u001b[0m\n",
      "\u001b[33mWhat's next?\u001b[39m\n",
      "\u001b[33m------------\u001b[39m\n",
      "- Check out the documentation: <\u001b[36mhttps://dvc.org/doc\u001b[39m>\n",
      "- Get help and share ideas: <\u001b[36mhttps://dvc.org/chat\u001b[39m>\n",
      "- Star us on GitHub: <\u001b[36mhttps://github.com/iterative/dvc\u001b[39m>\n",
      "\u001b[0m"
     ]
    }
   ],
   "source": [
    "!dvc init"
   ]
  },
  {
   "cell_type": "markdown",
   "id": "compressed-benjamin",
   "metadata": {},
   "source": [
    "# Preview of .dvc/ directory with configuration files and cached files"
   ]
  },
  {
   "cell_type": "code",
   "execution_count": 7,
   "id": "proper-evans",
   "metadata": {},
   "outputs": [
    {
     "name": "stdout",
     "output_type": "stream",
     "text": [
      "config \u001b[1m\u001b[36mplots\u001b[m\u001b[m  \u001b[1m\u001b[36mtmp\u001b[m\u001b[m\r\n",
      "\r\n",
      ".dvc//plots:\r\n",
      "confusion.json            default.json              scatter.json\r\n",
      "confusion_normalized.json linear.json               smooth.json\r\n",
      "\r\n",
      ".dvc//tmp:\r\n",
      "\u001b[1m\u001b[36mlinks\u001b[m\u001b[m \u001b[1m\u001b[36mmd5s\u001b[m\u001b[m\r\n",
      "\r\n",
      ".dvc//tmp/links:\r\n",
      "cache.db\r\n",
      "\r\n",
      ".dvc//tmp/md5s:\r\n",
      "cache.db\r\n"
     ]
    }
   ],
   "source": [
    "!ls -R .dvc/"
   ]
  },
  {
   "cell_type": "markdown",
   "id": "mental-knight",
   "metadata": {},
   "source": [
    "# Push Data to Remote"
   ]
  },
  {
   "cell_type": "code",
   "execution_count": 180,
   "id": "canadian-envelope",
   "metadata": {},
   "outputs": [
    {
     "name": "stdout",
     "output_type": "stream",
     "text": [
      "Setting 'azure' as a default remote.\n",
      "\u001b[0m"
     ]
    }
   ],
   "source": [
    "!dvc remote add -f -d azure azure://dataversioningdemo/dvc"
   ]
  },
  {
   "cell_type": "code",
   "execution_count": 181,
   "id": "marine-suspension",
   "metadata": {},
   "outputs": [
    {
     "name": "stdout",
     "output_type": "stream",
     "text": [
      "  0% Uploading|                                      |0/1 [00:00<?,     ?file/s]\n",
      "!\u001b[A\n",
      "  0%|          |remote.csv                      0.00/472k [00:00<?,       ?it/s]\u001b[A\n",
      "1 file pushed                                                                   \u001b[A\n",
      "\u001b[0m"
     ]
    }
   ],
   "source": [
    "!dvc push"
   ]
  },
  {
   "cell_type": "code",
   "execution_count": 112,
   "id": "indoor-implement",
   "metadata": {},
   "outputs": [
    {
     "name": "stdout",
     "output_type": "stream",
     "text": [
      "\u001b[0m"
     ]
    }
   ],
   "source": [
    "!dvc remote modify --local azure connection_string ''"
   ]
  },
  {
   "cell_type": "code",
   "execution_count": 182,
   "id": "directed-salmon",
   "metadata": {},
   "outputs": [
    {
     "name": "stdout",
     "output_type": "stream",
     "text": [
      "Everything is up to date.                                                       \n",
      "\u001b[0m"
     ]
    }
   ],
   "source": [
    "!dvc push"
   ]
  },
  {
   "cell_type": "markdown",
   "id": "standing-sleep",
   "metadata": {},
   "source": [
    "# Start tracking a file with DVC"
   ]
  },
  {
   "cell_type": "code",
   "execution_count": 208,
   "id": "right-briefs",
   "metadata": {},
   "outputs": [
    {
     "name": "stdout",
     "output_type": "stream",
     "text": [
      "100% Add|██████████████████████████████████████████████|1/1 [00:00,  1.10file/s]\n",
      "\n",
      "To track the changes with git, run:\n",
      "\n",
      "\tgit add raw_data/raw.csv.dvc\n",
      "\u001b[0m"
     ]
    }
   ],
   "source": [
    "!dvc add raw_data/raw.csv"
   ]
  },
  {
   "cell_type": "code",
   "execution_count": 209,
   "id": "amateur-network",
   "metadata": {},
   "outputs": [],
   "source": [
    "!git add raw_data/.gitignore raw_data/raw.csv.dvc"
   ]
  },
  {
   "cell_type": "code",
   "execution_count": 210,
   "id": "secret-delta",
   "metadata": {},
   "outputs": [
    {
     "name": "stdout",
     "output_type": "stream",
     "text": [
      "outs:\r\n",
      "- md5: 6b1bb944d438bb373d0a84fef79a2f33\r\n",
      "  size: 472074\r\n",
      "  path: raw.csv\r\n"
     ]
    }
   ],
   "source": [
    "!cat raw_data/raw.csv.dvc"
   ]
  },
  {
   "cell_type": "code",
   "execution_count": 211,
   "id": "naughty-slovakia",
   "metadata": {},
   "outputs": [
    {
     "name": "stdout",
     "output_type": "stream",
     "text": [
      "MD5 (raw_data/raw.csv) = 6b1bb944d438bb373d0a84fef79a2f33\r\n"
     ]
    }
   ],
   "source": [
    "!md5 raw_data/raw.csv"
   ]
  },
  {
   "cell_type": "code",
   "execution_count": 212,
   "id": "favorite-white",
   "metadata": {},
   "outputs": [
    {
     "name": "stdout",
     "output_type": "stream",
     "text": [
      "\u001b[1m\u001b[36mcache\u001b[m\u001b[m        config       config.local \u001b[1m\u001b[36mplots\u001b[m\u001b[m        \u001b[1m\u001b[36mtmp\u001b[m\u001b[m\r\n",
      "\r\n",
      ".dvc//cache:\r\n",
      "\u001b[1m\u001b[36m6b\u001b[m\u001b[m   \u001b[1m\u001b[36mb7\u001b[m\u001b[m   \u001b[1m\u001b[36mc8\u001b[m\u001b[m   \u001b[1m\u001b[36mruns\u001b[m\u001b[m\r\n",
      "\r\n",
      ".dvc//cache/6b:\r\n",
      "1bb944d438bb373d0a84fef79a2f33\r\n",
      "\r\n",
      ".dvc//cache/b7:\r\n",
      "5903f1ad57a7c13c2c6043aafc6ea3\r\n",
      "\r\n",
      ".dvc//cache/c8:\r\n",
      "f9e8a0121672ed40a039d44c2363d5\r\n",
      "\r\n",
      ".dvc//cache/runs:\r\n",
      "\u001b[1m\u001b[36m2f\u001b[m\u001b[m\r\n",
      "\r\n",
      ".dvc//cache/runs/2f:\r\n",
      "\u001b[1m\u001b[36m2fc3571246cc91fbf1c127973c8980dc899e2154186aa6086c017c0995b12961\u001b[m\u001b[m\r\n",
      "\r\n",
      ".dvc//cache/runs/2f/2fc3571246cc91fbf1c127973c8980dc899e2154186aa6086c017c0995b12961:\r\n",
      "7e2dfe086405d82d2d5eedc209faf8d578e95589b045c037c1ab3348dc168a97\r\n",
      "\r\n",
      ".dvc//plots:\r\n",
      "confusion.json            default.json              scatter.json\r\n",
      "confusion_normalized.json linear.json               smooth.json\r\n",
      "\r\n",
      ".dvc//tmp:\r\n",
      "\u001b[1m\u001b[36mindex\u001b[m\u001b[m        lock         rwlock       updater.lock\r\n",
      "\u001b[1m\u001b[36mlinks\u001b[m\u001b[m        \u001b[1m\u001b[36mmd5s\u001b[m\u001b[m         updater\r\n",
      "\r\n",
      ".dvc//tmp/index:\r\n",
      "60dae5341568bd56a8ee994ce03c92495cae9c44c88e09db89b57995a7371a7c.idx\r\n",
      "98bf5b3471ef5e62888420d7976d52fab4c9425b47b3fbc3b3baf7025f24c962.idx\r\n",
      "e09f1c05629cd286e7c91ecb2dfc797db7771ce83690a1e1226203932b33b266.idx\r\n",
      "\r\n",
      ".dvc//tmp/links:\r\n",
      "cache.db\r\n",
      "\r\n",
      ".dvc//tmp/md5s:\r\n",
      "cache.db\r\n"
     ]
    }
   ],
   "source": [
    "!ls -R .dvc/"
   ]
  },
  {
   "cell_type": "code",
   "execution_count": 213,
   "id": "controversial-connectivity",
   "metadata": {},
   "outputs": [
    {
     "name": "stdout",
     "output_type": "stream",
     "text": [
      "[master (root-commit) 74dd5cf] Track raw dataset\r\n",
      " 2 files changed, 5 insertions(+)\r\n",
      " create mode 100644 raw_data/.gitignore\r\n",
      " create mode 100644 raw_data/raw.csv.dvc\r\n"
     ]
    }
   ],
   "source": [
    "!git commit -m \"Track raw dataset\""
   ]
  },
  {
   "cell_type": "code",
   "execution_count": 214,
   "id": "coastal-black",
   "metadata": {},
   "outputs": [
    {
     "name": "stdout",
     "output_type": "stream",
     "text": [
      "Everything is up to date.                                                       \n",
      "\u001b[0m"
     ]
    }
   ],
   "source": [
    "!dvc push"
   ]
  },
  {
   "cell_type": "markdown",
   "id": "sporting-intersection",
   "metadata": {},
   "source": [
    "# Modify a file"
   ]
  },
  {
   "cell_type": "code",
   "execution_count": 215,
   "id": "decimal-scratch",
   "metadata": {},
   "outputs": [],
   "source": [
    "!tail -n 100 raw_data/raw.csv > tmp.csv && mv tmp.csv raw_data/raw.csv"
   ]
  },
  {
   "cell_type": "code",
   "execution_count": 216,
   "id": "every-vision",
   "metadata": {},
   "outputs": [
    {
     "name": "stdout",
     "output_type": "stream",
     "text": [
      "100% Add|██████████████████████████████████████████████|1/1 [00:00,  1.49file/s]\n",
      "\n",
      "To track the changes with git, run:\n",
      "\n",
      "\tgit add raw_data/raw.csv.dvc\n",
      "\u001b[0m"
     ]
    }
   ],
   "source": [
    "!dvc add raw_data/raw.csv"
   ]
  },
  {
   "cell_type": "code",
   "execution_count": 217,
   "id": "sized-migration",
   "metadata": {},
   "outputs": [
    {
     "name": "stdout",
     "output_type": "stream",
     "text": [
      "outs:\r\n",
      "- md5: 4c5798a5cc94f942adae521acea8471c\r\n",
      "  size: 32424\r\n",
      "  path: raw.csv\r\n"
     ]
    }
   ],
   "source": [
    "!cat raw_data/raw.csv.dvc"
   ]
  },
  {
   "cell_type": "code",
   "execution_count": 218,
   "id": "guided-dimension",
   "metadata": {},
   "outputs": [],
   "source": [
    "!git add raw_data/raw.csv.dvc"
   ]
  },
  {
   "cell_type": "code",
   "execution_count": 219,
   "id": "tutorial-howard",
   "metadata": {},
   "outputs": [
    {
     "name": "stdout",
     "output_type": "stream",
     "text": [
      "[master d6af93a] Sample dataset\r\n",
      " 1 file changed, 2 insertions(+), 2 deletions(-)\r\n"
     ]
    }
   ],
   "source": [
    "!git commit -m \"Sample dataset\""
   ]
  },
  {
   "cell_type": "markdown",
   "id": "adult-shannon",
   "metadata": {},
   "source": [
    "# Move back to previous version"
   ]
  },
  {
   "cell_type": "code",
   "execution_count": 220,
   "id": "opened-cooler",
   "metadata": {},
   "outputs": [
    {
     "name": "stdout",
     "output_type": "stream",
     "text": [
      "\u001b[33md6af93a\u001b[m\u001b[33m (\u001b[m\u001b[1;36mHEAD -> \u001b[m\u001b[1;32mmaster\u001b[m\u001b[33m)\u001b[m Sample dataset\r\n",
      "\u001b[33m74dd5cf\u001b[m Track raw dataset\r\n"
     ]
    }
   ],
   "source": [
    "!git log --oneline"
   ]
  },
  {
   "cell_type": "code",
   "execution_count": 221,
   "id": "ambient-fairy",
   "metadata": {},
   "outputs": [
    {
     "name": "stdout",
     "output_type": "stream",
     "text": [
      "Note: switching to '74dd5cf'.\r\n",
      "\r\n",
      "You are in 'detached HEAD' state. You can look around, make experimental\r\n",
      "changes and commit them, and you can discard any commits you make in this\r\n",
      "state without impacting any branches by switching back to a branch.\r\n",
      "\r\n",
      "If you want to create a new branch to retain commits you create, you may\r\n",
      "do so (now or later) by using -c with the switch command. Example:\r\n",
      "\r\n",
      "  git switch -c <new-branch-name>\r\n",
      "\r\n",
      "Or undo this operation with:\r\n",
      "\r\n",
      "  git switch -\r\n",
      "\r\n",
      "Turn off this advice by setting config variable advice.detachedHead to false\r\n",
      "\r\n",
      "HEAD is now at 74dd5cf Track raw dataset\r\n"
     ]
    }
   ],
   "source": [
    "!git checkout 74dd5cf"
   ]
  },
  {
   "cell_type": "code",
   "execution_count": 222,
   "id": "nominated-wells",
   "metadata": {},
   "outputs": [
    {
     "name": "stdout",
     "output_type": "stream",
     "text": [
      "outs:\r\n",
      "- md5: 6b1bb944d438bb373d0a84fef79a2f33\r\n",
      "  size: 472074\r\n",
      "  path: raw.csv\r\n"
     ]
    }
   ],
   "source": [
    "!cat raw_data/raw.csv.dvc"
   ]
  },
  {
   "cell_type": "code",
   "execution_count": 223,
   "id": "fantastic-graphic",
   "metadata": {},
   "outputs": [
    {
     "name": "stdout",
     "output_type": "stream",
     "text": [
      "\u001b[33mM\u001b[39m\traw_data/raw.csv                                                    \n",
      "\u001b[32mA\u001b[39m\tremote.csv\n",
      "\u001b[0m"
     ]
    }
   ],
   "source": [
    "!dvc checkout"
   ]
  },
  {
   "cell_type": "code",
   "execution_count": 225,
   "id": "electrical-estate",
   "metadata": {},
   "outputs": [
    {
     "name": "stdout",
     "output_type": "stream",
     "text": [
      "MD5 (raw_data/raw.csv.dvc) = bb7d62d225414266328c3257f29d9894\r\n"
     ]
    }
   ],
   "source": [
    "!md5 raw_data/raw.csv.dvc"
   ]
  },
  {
   "cell_type": "code",
   "execution_count": 226,
   "id": "transsexual-alarm",
   "metadata": {},
   "outputs": [
    {
     "name": "stdout",
     "output_type": "stream",
     "text": [
      "Previous HEAD position was 74dd5cf Track raw dataset\r\n",
      "Switched to branch 'master'\r\n"
     ]
    }
   ],
   "source": [
    "!git checkout master"
   ]
  },
  {
   "cell_type": "markdown",
   "id": "transsexual-massachusetts",
   "metadata": {},
   "source": [
    "# Start with existing external data"
   ]
  },
  {
   "cell_type": "code",
   "execution_count": 141,
   "id": "related-remove",
   "metadata": {},
   "outputs": [
    {
     "name": "stdout",
     "output_type": "stream",
     "text": [
      "\u001b[33mThe default web browser has been opened at https://login.microsoftonline.com/common/oauth2/authorize. Please continue the login in the web browser. If no web browser is available or if the web browser fails to open, use device code flow with `az login --use-device-code`.\u001b[0m\n",
      "\u001b[33mYou have logged in. Now let us find all the subscriptions to which you have access...\u001b[0m\n",
      "[\n",
      "  {\n",
      "    \"cloudName\": \"AzureCloud\",\n",
      "    \"homeTenantId\": \"f8ab2ec8-f02e-47e4-9ea7-a6826e153d22\",\n",
      "    \"id\": \"827dbc18-97d7-4a9d-91d1-a0d0d15c9603\",\n",
      "    \"isDefault\": true,\n",
      "    \"managedByTenants\": [\n",
      "      {\n",
      "        \"tenantId\": \"2f4a9838-26b7-47ee-be60-ccc1fdec5953\"\n",
      "      }\n",
      "    ],\n",
      "    \"name\": \"Unit8 Sponsored Subscription\",\n",
      "    \"state\": \"Enabled\",\n",
      "    \"tenantId\": \"f8ab2ec8-f02e-47e4-9ea7-a6826e153d22\",\n",
      "    \"user\": {\n",
      "      \"name\": \"tomasz.chojna@unit8.co\",\n",
      "      \"type\": \"user\"\n",
      "    }\n",
      "  }\n",
      "]\n"
     ]
    }
   ],
   "source": [
    "!az login"
   ]
  },
  {
   "cell_type": "code",
   "execution_count": 228,
   "id": "purple-surrey",
   "metadata": {},
   "outputs": [
    {
     "name": "stdout",
     "output_type": "stream",
     "text": [
      "^C                                                                    core\u001b[39m>\n",
      "\u001b[31mERROR\u001b[39m: interrupted by the user\n",
      "\u001b[0m"
     ]
    }
   ],
   "source": [
    "!dvc run -n download_file \\\n",
    "          -f \\\n",
    "          -d azure://dataversioningdemo/remote_data/remote.csv \\\n",
    "          -o remote.csv \\\n",
    "          az storage copy \\\n",
    "                     -d remote.csv \\\n",
    "                     --account-name dataversioningdemo \\\n",
    "                     --source-container dataversioningdemo \\\n",
    "                     --source-blob remote_data/remote.csv"
   ]
  },
  {
   "cell_type": "code",
   "execution_count": 229,
   "id": "numerical-backing",
   "metadata": {},
   "outputs": [
    {
     "name": "stdout",
     "output_type": "stream",
     "text": [
      "stages:\r\n",
      "  download_file:\r\n",
      "    cmd: az storage copy -d remote.csv --account-name dataversioningdemo --source-container\r\n",
      "      dataversioningdemo --source-blob remote_data/remote.csv\r\n",
      "    deps:\r\n",
      "    - azure://dataversioningdemo/remote_data/remote.csv\r\n",
      "    outs:\r\n",
      "    - remote.csv\r\n"
     ]
    }
   ],
   "source": [
    "!cat dvc.yaml"
   ]
  },
  {
   "cell_type": "code",
   "execution_count": 230,
   "id": "alike-saturn",
   "metadata": {},
   "outputs": [
    {
     "name": "stdout",
     "output_type": "stream",
     "text": [
      "schema: '2.0'\r\n",
      "stages:\r\n",
      "  clean:\r\n",
      "    cmd: python3 dvc-basic/clean.py\r\n",
      "    deps:\r\n",
      "    - path: dvc-basic/raw.csv\r\n",
      "      md5: b75903f1ad57a7c13c2c6043aafc6ea3\r\n",
      "      size: 447503\r\n",
      "    outs:\r\n",
      "    - path: dvc-basic/dataset.csv\r\n",
      "      md5: 6b1bb944d438bb373d0a84fef79a2f33\r\n",
      "      size: 472074\r\n",
      "  download_file:\r\n",
      "    cmd: az storage copy -d remote.csv --account-name dataversioningdemo --source-container\r\n",
      "      dataversioningdemo --source-blob remote_data/remote.csv\r\n",
      "    deps:\r\n",
      "    - path: azure://dataversioningdemo/remote_data/remote.csv\r\n",
      "      etag: '0x8D90ECF37D7E527'\r\n",
      "      size: 472074\r\n",
      "    outs:\r\n",
      "    - path: remote.csv\r\n",
      "      md5: 6b1bb944d438bb373d0a84fef79a2f33\r\n",
      "      size: 472074\r\n"
     ]
    }
   ],
   "source": [
    "!cat dvc.lock"
   ]
  },
  {
   "cell_type": "markdown",
   "id": "lined-casino",
   "metadata": {},
   "source": [
    "# Data Preprocessing"
   ]
  },
  {
   "cell_type": "code",
   "execution_count": 238,
   "id": "social-thermal",
   "metadata": {},
   "outputs": [
    {
     "name": "stdout",
     "output_type": "stream",
     "text": [
      "import pandas as pd\r\n",
      "import os\r\n",
      "\r\n",
      "dir_path = os.path.dirname(os.path.realpath(__file__))\r\n",
      "\r\n",
      "df = pd.read_csv(f'{dir_path}/raw.csv', index_col='Id')\r\n",
      "df['AvgBedroomSize'] = df['1stFlrSF'] / df['BedroomAbvGr']\r\n",
      "df.to_csv(f'{dir_path}/dataset.csv')\r\n"
     ]
    }
   ],
   "source": [
    "!cat clean.py"
   ]
  },
  {
   "cell_type": "code",
   "execution_count": 239,
   "id": "republican-moderator",
   "metadata": {},
   "outputs": [
    {
     "name": "stdout",
     "output_type": "stream",
     "text": [
      "Running stage 'clean':                                                core\u001b[39m>\n",
      "> python3 clean.py\n",
      "Adding stage 'clean' in 'dvc.yaml'                                    core\u001b[39m>\n",
      "Updating lock file 'dvc.lock'\n",
      "\n",
      "To track the changes with git, run:\n",
      "\n",
      "\tgit add dvc.yaml .gitignore dvc.lock\n",
      "\u001b[0m"
     ]
    }
   ],
   "source": [
    "!dvc run -f -n clean -d remote.csv -o dataset.csv python3 clean.py"
   ]
  },
  {
   "cell_type": "code",
   "execution_count": 240,
   "id": "coral-intensity",
   "metadata": {},
   "outputs": [
    {
     "name": "stdout",
     "output_type": "stream",
     "text": [
      "stages:\r\n",
      "  download_file:\r\n",
      "    cmd: az storage copy -d remote.csv --account-name dataversioningdemo --source-container\r\n",
      "      dataversioningdemo --source-blob remote_data/remote.csv\r\n",
      "    deps:\r\n",
      "    - azure://dataversioningdemo/remote_data/remote.csv\r\n",
      "    outs:\r\n",
      "    - remote.csv\r\n",
      "  clean:\r\n",
      "    cmd: python3 clean.py\r\n",
      "    deps:\r\n",
      "    - remote.csv\r\n",
      "    outs:\r\n",
      "    - dataset.csv\r\n"
     ]
    }
   ],
   "source": [
    "!cat dvc.yaml"
   ]
  },
  {
   "cell_type": "code",
   "execution_count": 241,
   "id": "accurate-times",
   "metadata": {},
   "outputs": [
    {
     "name": "stdout",
     "output_type": "stream",
     "text": [
      "\u001b7\u001b[?47h\u001b[?1h\u001b=\n",
      "\n",
      "\n",
      "\n",
      "\n",
      "\n",
      "\n",
      "\n",
      "\n",
      "\n",
      "\n",
      "\n",
      "\n",
      "\n",
      "\n",
      "\n",
      "\n",
      "\n",
      "\n",
      "\n",
      "\n",
      "\n",
      "\n",
      "\u001b[H\u001b[2J\u001b[H\u001b[H\u001b[2J\u001b[H+---------------+  \u001b[m\n",
      "| download_file |  \u001b[m\n",
      "+---------------+  \u001b[m\n",
      "        *          \u001b[m\n",
      "        *          \u001b[m\n",
      "        *          \u001b[m\n",
      "    +-------+      \u001b[m\n",
      "    | clean |      \u001b[m\n",
      "    +-------+      \u001b[m\n",
      "+----------------------+ \u001b[m\n",
      "| raw_data/raw.csv.dvc | \u001b[m\n",
      "+----------------------+ \u001b[m\n",
      "\u001b[1m~\u001b[m\n",
      "\u001b[1m~\u001b[m\n",
      "\u001b[1m~\u001b[m\n",
      "\u001b[1m~\u001b[m\n",
      "\u001b[1m~\u001b[m\n",
      "\u001b[1m~\u001b[m\n",
      "\u001b[1m~\u001b[m\n",
      "\u001b[1m~\u001b[m\n",
      "\u001b[1m~\u001b[m\n",
      "\u001b[1m~\u001b[m\n",
      "\u001b[1m~\u001b[m\n",
      "\u001b[K\u001b[7m(END)\u001b[m\u001b[Kw/yb27s57j2rj9jqkd4z819z_c0000gn/T/tmpzn4khk2y (END)\u001b[m\u001b[K\u0007"
     ]
    }
   ],
   "source": [
    "!dvc dag"
   ]
  },
  {
   "cell_type": "code",
   "execution_count": 242,
   "id": "informative-valentine",
   "metadata": {},
   "outputs": [
    {
     "name": "stdout",
     "output_type": "stream",
     "text": [
      "schema: '2.0'\r\n",
      "stages:\r\n",
      "  clean:\r\n",
      "    cmd: python3 clean.py\r\n",
      "    deps:\r\n",
      "    - path: remote.csv\r\n",
      "      md5: 80ccab65fb115cbad143dbbd2bcd5577\r\n",
      "      size: 460676\r\n",
      "    outs:\r\n",
      "    - path: dataset.csv\r\n",
      "      md5: b5d7e391c62437eafe26cf38ec471aa0\r\n",
      "      size: 469260\r\n",
      "  download_file:\r\n",
      "    cmd: az storage copy -d remote.csv --account-name dataversioningdemo --source-container\r\n",
      "      dataversioningdemo --source-blob remote_data/remote.csv\r\n",
      "    deps:\r\n",
      "    - path: azure://dataversioningdemo/remote_data/remote.csv\r\n",
      "      etag: '0x8D90ED099C72B14'\r\n",
      "      size: 460676\r\n",
      "    outs:\r\n",
      "    - path: remote.csv\r\n",
      "      md5: 80ccab65fb115cbad143dbbd2bcd5577\r\n",
      "      size: 460676\r\n"
     ]
    }
   ],
   "source": [
    "!cat dvc.lock"
   ]
  },
  {
   "cell_type": "markdown",
   "id": "silver-electric",
   "metadata": {},
   "source": [
    "# Reproduce pipeline"
   ]
  },
  {
   "cell_type": "code",
   "execution_count": null,
   "id": "assigned-impact",
   "metadata": {},
   "outputs": [],
   "source": [
    "!dvc repro"
   ]
  }
 ],
 "metadata": {
  "kernelspec": {
   "display_name": "Python 3",
   "language": "python",
   "name": "python3"
  },
  "language_info": {
   "codemirror_mode": {
    "name": "ipython",
    "version": 3
   },
   "file_extension": ".py",
   "mimetype": "text/x-python",
   "name": "python",
   "nbconvert_exporter": "python",
   "pygments_lexer": "ipython3",
   "version": "3.9.1"
  }
 },
 "nbformat": 4,
 "nbformat_minor": 5
}
